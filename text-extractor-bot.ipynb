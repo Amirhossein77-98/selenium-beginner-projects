{
 "cells": [
  {
   "cell_type": "code",
   "execution_count": 42,
   "metadata": {},
   "outputs": [],
   "source": [
    "# Import the webdriver module from the selenium package\n",
    "# This module provides the entry point for interacting with web browsers\n",
    "from selenium import webdriver\n",
    "\n",
    "# Import the Service class from the selenium.webdriver.chrome.service module\n",
    "# This class is used to create a service object for managing the ChromeDriver process\n",
    "from selenium.webdriver.chrome.service import Service\n",
    "\n",
    "# Import the WebDriverWait class from the selenium.webdriver.support.ui module\n",
    "# This class is used to wait for certain conditions to be met before proceeding with further actions\n",
    "from selenium.webdriver.support.ui import WebDriverWait\n",
    "\n",
    "# Import the By class from the selenium.webdriver.common.by module\n",
    "# This class provides constants for locating web elements by different strategies (e.g., ID, class name, CSS selector)\n",
    "from selenium.webdriver.common.by import By\n",
    "\n",
    "# Import the expected_conditions module from the selenium.webdriver.support module\n",
    "# This module provides various expected conditions that can be used with WebDriverWait\n",
    "from selenium.webdriver.support import expected_conditions as EC"
   ]
  },
  {
   "cell_type": "code",
   "execution_count": 43,
   "metadata": {},
   "outputs": [],
   "source": [
    "# Replace this with the actual path to your Chrome binary\n",
    "chrome_bin_path = r\"C:\\Program Files\\Google\\Chrome Beta\\Application\\chrome.exe\"\n",
    "\n",
    "# Create a Service object with the path to the ChromeDriver executable\n",
    "service = Service(\"chromedriver.exe\")\n",
    "\n",
    "# Pass the Chrome binary path as an option\n",
    "chrome_options = webdriver.ChromeOptions()\n",
    "chrome_options.binary_location = chrome_bin_path\n",
    "\n",
    "# Create a WebDriver instance for Chrome\n",
    "driver = webdriver.Chrome(service=service, options=chrome_options)"
   ]
  },
  {
   "cell_type": "code",
   "execution_count": 44,
   "metadata": {},
   "outputs": [],
   "source": [
    "# Navigate to the website\n",
    "driver.get(\"https://soft98.ir\")"
   ]
  },
  {
   "cell_type": "code",
   "execution_count": 45,
   "metadata": {},
   "outputs": [
    {
     "name": "stdout",
     "output_type": "stream",
     "text": [
      "خانه\n"
     ]
    }
   ],
   "source": [
    "# Wait for the element with the class name \"nbdvlk\" to be present\n",
    "wait = WebDriverWait(driver, 10)\n",
    "element = wait.until(EC.presence_of_element_located((By.CLASS_NAME, \"nbdvlk\")))\n",
    "\n",
    "# Print the text of the element\n",
    "print(element.text)"
   ]
  },
  {
   "cell_type": "code",
   "execution_count": 46,
   "metadata": {},
   "outputs": [],
   "source": [
    "# Close the browser\n",
    "driver.quit()"
   ]
  }
 ],
 "metadata": {
  "kernelspec": {
   "display_name": "venv",
   "language": "python",
   "name": "python3"
  },
  "language_info": {
   "codemirror_mode": {
    "name": "ipython",
    "version": 3
   },
   "file_extension": ".py",
   "mimetype": "text/x-python",
   "name": "python",
   "nbconvert_exporter": "python",
   "pygments_lexer": "ipython3",
   "version": "3.12.2"
  }
 },
 "nbformat": 4,
 "nbformat_minor": 2
}
